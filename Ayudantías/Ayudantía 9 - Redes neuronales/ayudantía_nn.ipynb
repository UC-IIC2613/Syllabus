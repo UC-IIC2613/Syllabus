{
  "nbformat": 4,
  "nbformat_minor": 0,
  "metadata": {
    "colab": {
      "name": "ayudantía_nn.ipynb",
      "provenance": [],
      "collapsed_sections": []
    },
    "kernelspec": {
      "name": "python3",
      "display_name": "Python 3"
    },
    "language_info": {
      "name": "python"
    },
    "accelerator": "GPU"
  },
  "cells": [
    {
      "cell_type": "markdown",
      "metadata": {
        "id": "48ghxxObjAd6"
      },
      "source": [
        "## Librerías a utilizar"
      ]
    },
    {
      "cell_type": "code",
      "metadata": {
        "id": "VwJZF5MYip3s"
      },
      "source": [
        "import numpy as np\n",
        "import pandas as pd\n",
        "import seaborn as sns\n",
        "import matplotlib.pyplot as plt\n",
        "\n",
        "from sklearn.preprocessing import StandardScaler    \n",
        "from sklearn.model_selection import train_test_split\n",
        "from sklearn.preprocessing import normalize\n",
        "from sklearn.metrics import confusion_matrix, classification_report\n"
      ],
      "execution_count": null,
      "outputs": []
    },
    {
      "cell_type": "markdown",
      "metadata": {
        "id": "Op-5tCj_BwYR"
      },
      "source": [
        "## Importar y almacenar datos"
      ]
    },
    {
      "cell_type": "markdown",
      "metadata": {
        "id": "OjTHQO0zCHeP"
      },
      "source": [
        "Código revisado: [link](https://towardsdatascience.com/pytorch-tabular-binary-classification-a0368da5bb89)"
      ]
    },
    {
      "cell_type": "code",
      "metadata": {
        "colab": {
          "resources": {
            "http://localhost:8080/nbextensions/google.colab/files.js": {
              "data": "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",
              "ok": true,
              "headers": [
                [
                  "content-type",
                  "application/javascript"
                ]
              ],
              "status": 200,
              "status_text": ""
            }
          },
          "base_uri": "https://localhost:8080/",
          "height": 72
        },
        "id": "yV83nGH1kvJz",
        "outputId": "9dbfa3d0-b10b-44b4-d634-a4d5f870d3d4"
      },
      "source": [
        "from google.colab import files\n",
        "uploaded = files.upload()"
      ],
      "execution_count": null,
      "outputs": [
        {
          "output_type": "display_data",
          "data": {
            "text/html": [
              "\n",
              "     <input type=\"file\" id=\"files-5a4caf99-cf67-420d-b672-74c39cbe5996\" name=\"files[]\" multiple disabled\n",
              "        style=\"border:none\" />\n",
              "     <output id=\"result-5a4caf99-cf67-420d-b672-74c39cbe5996\">\n",
              "      Upload widget is only available when the cell has been executed in the\n",
              "      current browser session. Please rerun this cell to enable.\n",
              "      </output>\n",
              "      <script src=\"/nbextensions/google.colab/files.js\"></script> "
            ],
            "text/plain": [
              "<IPython.core.display.HTML object>"
            ]
          },
          "metadata": {
            "tags": []
          }
        },
        {
          "output_type": "stream",
          "text": [
            "Saving dataset_spine.csv to dataset_spine.csv\n"
          ],
          "name": "stdout"
        }
      ]
    },
    {
      "cell_type": "code",
      "metadata": {
        "id": "JUK90VuNmhMp"
      },
      "source": [
        "import io\n",
        "data = pd.read_csv(io.BytesIO(uploaded['dataset_spine.csv']))"
      ],
      "execution_count": null,
      "outputs": []
    },
    {
      "cell_type": "markdown",
      "metadata": {
        "id": "iRYQPk9eCXuI"
      },
      "source": [
        "Hay 12 características que describen el dolor de espalda y dos clases: *abnormal* y *normal*. Más información del *dataset* [acá](https://www.kaggle.com/sammy123/lower-back-pain-symptoms-dataset)"
      ]
    },
    {
      "cell_type": "code",
      "metadata": {
        "id": "ZVUdx5-qmz3n",
        "colab": {
          "base_uri": "https://localhost:8080/",
          "height": 419
        },
        "outputId": "e37de2ac-f0f2-495a-ba4f-29a908303224"
      },
      "source": [
        "data"
      ],
      "execution_count": null,
      "outputs": [
        {
          "output_type": "execute_result",
          "data": {
            "text/html": [
              "<div>\n",
              "<style scoped>\n",
              "    .dataframe tbody tr th:only-of-type {\n",
              "        vertical-align: middle;\n",
              "    }\n",
              "\n",
              "    .dataframe tbody tr th {\n",
              "        vertical-align: top;\n",
              "    }\n",
              "\n",
              "    .dataframe thead th {\n",
              "        text-align: right;\n",
              "    }\n",
              "</style>\n",
              "<table border=\"1\" class=\"dataframe\">\n",
              "  <thead>\n",
              "    <tr style=\"text-align: right;\">\n",
              "      <th></th>\n",
              "      <th>Col1</th>\n",
              "      <th>Col2</th>\n",
              "      <th>Col3</th>\n",
              "      <th>Col4</th>\n",
              "      <th>Col5</th>\n",
              "      <th>Col6</th>\n",
              "      <th>Col7</th>\n",
              "      <th>Col8</th>\n",
              "      <th>Col9</th>\n",
              "      <th>Col10</th>\n",
              "      <th>Col11</th>\n",
              "      <th>Col12</th>\n",
              "      <th>Class_att</th>\n",
              "      <th>Unnamed: 13</th>\n",
              "    </tr>\n",
              "  </thead>\n",
              "  <tbody>\n",
              "    <tr>\n",
              "      <th>0</th>\n",
              "      <td>63.027818</td>\n",
              "      <td>22.552586</td>\n",
              "      <td>39.609117</td>\n",
              "      <td>40.475232</td>\n",
              "      <td>98.672917</td>\n",
              "      <td>-0.254400</td>\n",
              "      <td>0.744503</td>\n",
              "      <td>12.5661</td>\n",
              "      <td>14.5386</td>\n",
              "      <td>15.30468</td>\n",
              "      <td>-28.658501</td>\n",
              "      <td>43.5123</td>\n",
              "      <td>Abnormal</td>\n",
              "      <td>NaN</td>\n",
              "    </tr>\n",
              "    <tr>\n",
              "      <th>1</th>\n",
              "      <td>39.056951</td>\n",
              "      <td>10.060991</td>\n",
              "      <td>25.015378</td>\n",
              "      <td>28.995960</td>\n",
              "      <td>114.405425</td>\n",
              "      <td>4.564259</td>\n",
              "      <td>0.415186</td>\n",
              "      <td>12.8874</td>\n",
              "      <td>17.5323</td>\n",
              "      <td>16.78486</td>\n",
              "      <td>-25.530607</td>\n",
              "      <td>16.1102</td>\n",
              "      <td>Abnormal</td>\n",
              "      <td>NaN</td>\n",
              "    </tr>\n",
              "    <tr>\n",
              "      <th>2</th>\n",
              "      <td>68.832021</td>\n",
              "      <td>22.218482</td>\n",
              "      <td>50.092194</td>\n",
              "      <td>46.613539</td>\n",
              "      <td>105.985135</td>\n",
              "      <td>-3.530317</td>\n",
              "      <td>0.474889</td>\n",
              "      <td>26.8343</td>\n",
              "      <td>17.4861</td>\n",
              "      <td>16.65897</td>\n",
              "      <td>-29.031888</td>\n",
              "      <td>19.2221</td>\n",
              "      <td>Abnormal</td>\n",
              "      <td>Prediction is done by using binary classificat...</td>\n",
              "    </tr>\n",
              "    <tr>\n",
              "      <th>3</th>\n",
              "      <td>69.297008</td>\n",
              "      <td>24.652878</td>\n",
              "      <td>44.311238</td>\n",
              "      <td>44.644130</td>\n",
              "      <td>101.868495</td>\n",
              "      <td>11.211523</td>\n",
              "      <td>0.369345</td>\n",
              "      <td>23.5603</td>\n",
              "      <td>12.7074</td>\n",
              "      <td>11.42447</td>\n",
              "      <td>-30.470246</td>\n",
              "      <td>18.8329</td>\n",
              "      <td>Abnormal</td>\n",
              "      <td>NaN</td>\n",
              "    </tr>\n",
              "    <tr>\n",
              "      <th>4</th>\n",
              "      <td>49.712859</td>\n",
              "      <td>9.652075</td>\n",
              "      <td>28.317406</td>\n",
              "      <td>40.060784</td>\n",
              "      <td>108.168725</td>\n",
              "      <td>7.918501</td>\n",
              "      <td>0.543360</td>\n",
              "      <td>35.4940</td>\n",
              "      <td>15.9546</td>\n",
              "      <td>8.87237</td>\n",
              "      <td>-16.378376</td>\n",
              "      <td>24.9171</td>\n",
              "      <td>Abnormal</td>\n",
              "      <td>NaN</td>\n",
              "    </tr>\n",
              "    <tr>\n",
              "      <th>...</th>\n",
              "      <td>...</td>\n",
              "      <td>...</td>\n",
              "      <td>...</td>\n",
              "      <td>...</td>\n",
              "      <td>...</td>\n",
              "      <td>...</td>\n",
              "      <td>...</td>\n",
              "      <td>...</td>\n",
              "      <td>...</td>\n",
              "      <td>...</td>\n",
              "      <td>...</td>\n",
              "      <td>...</td>\n",
              "      <td>...</td>\n",
              "      <td>...</td>\n",
              "    </tr>\n",
              "    <tr>\n",
              "      <th>305</th>\n",
              "      <td>47.903565</td>\n",
              "      <td>13.616688</td>\n",
              "      <td>36.000000</td>\n",
              "      <td>34.286877</td>\n",
              "      <td>117.449062</td>\n",
              "      <td>-4.245395</td>\n",
              "      <td>0.129744</td>\n",
              "      <td>7.8433</td>\n",
              "      <td>14.7484</td>\n",
              "      <td>8.51707</td>\n",
              "      <td>-15.728927</td>\n",
              "      <td>11.5472</td>\n",
              "      <td>Normal</td>\n",
              "      <td>NaN</td>\n",
              "    </tr>\n",
              "    <tr>\n",
              "      <th>306</th>\n",
              "      <td>53.936748</td>\n",
              "      <td>20.721496</td>\n",
              "      <td>29.220534</td>\n",
              "      <td>33.215251</td>\n",
              "      <td>114.365845</td>\n",
              "      <td>-0.421010</td>\n",
              "      <td>0.047913</td>\n",
              "      <td>19.1986</td>\n",
              "      <td>18.1972</td>\n",
              "      <td>7.08745</td>\n",
              "      <td>6.013843</td>\n",
              "      <td>43.8693</td>\n",
              "      <td>Normal</td>\n",
              "      <td>NaN</td>\n",
              "    </tr>\n",
              "    <tr>\n",
              "      <th>307</th>\n",
              "      <td>61.446597</td>\n",
              "      <td>22.694968</td>\n",
              "      <td>46.170347</td>\n",
              "      <td>38.751628</td>\n",
              "      <td>125.670725</td>\n",
              "      <td>-2.707880</td>\n",
              "      <td>0.081070</td>\n",
              "      <td>16.2059</td>\n",
              "      <td>13.5565</td>\n",
              "      <td>8.89572</td>\n",
              "      <td>3.564463</td>\n",
              "      <td>18.4151</td>\n",
              "      <td>Normal</td>\n",
              "      <td>NaN</td>\n",
              "    </tr>\n",
              "    <tr>\n",
              "      <th>308</th>\n",
              "      <td>45.252792</td>\n",
              "      <td>8.693157</td>\n",
              "      <td>41.583126</td>\n",
              "      <td>36.559635</td>\n",
              "      <td>118.545842</td>\n",
              "      <td>0.214750</td>\n",
              "      <td>0.159251</td>\n",
              "      <td>14.7334</td>\n",
              "      <td>16.0928</td>\n",
              "      <td>9.75922</td>\n",
              "      <td>5.767308</td>\n",
              "      <td>33.7192</td>\n",
              "      <td>Normal</td>\n",
              "      <td>NaN</td>\n",
              "    </tr>\n",
              "    <tr>\n",
              "      <th>309</th>\n",
              "      <td>33.841641</td>\n",
              "      <td>5.073991</td>\n",
              "      <td>36.641233</td>\n",
              "      <td>28.767649</td>\n",
              "      <td>123.945244</td>\n",
              "      <td>-0.199249</td>\n",
              "      <td>0.674504</td>\n",
              "      <td>19.3825</td>\n",
              "      <td>17.6963</td>\n",
              "      <td>13.72929</td>\n",
              "      <td>1.783007</td>\n",
              "      <td>40.6049</td>\n",
              "      <td>Normal</td>\n",
              "      <td>NaN</td>\n",
              "    </tr>\n",
              "  </tbody>\n",
              "</table>\n",
              "<p>310 rows × 14 columns</p>\n",
              "</div>"
            ],
            "text/plain": [
              "          Col1  ...                                        Unnamed: 13\n",
              "0    63.027818  ...                                                NaN\n",
              "1    39.056951  ...                                                NaN\n",
              "2    68.832021  ...  Prediction is done by using binary classificat...\n",
              "3    69.297008  ...                                                NaN\n",
              "4    49.712859  ...                                                NaN\n",
              "..         ...  ...                                                ...\n",
              "305  47.903565  ...                                                NaN\n",
              "306  53.936748  ...                                                NaN\n",
              "307  61.446597  ...                                                NaN\n",
              "308  45.252792  ...                                                NaN\n",
              "309  33.841641  ...                                                NaN\n",
              "\n",
              "[310 rows x 14 columns]"
            ]
          },
          "metadata": {
            "tags": []
          },
          "execution_count": 5
        }
      ]
    },
    {
      "cell_type": "markdown",
      "metadata": {
        "id": "esqpR2xCCqAM"
      },
      "source": [
        "Los nombres de las clases se cambian:"
      ]
    },
    {
      "cell_type": "code",
      "metadata": {
        "id": "sRV2ptI2nhRG"
      },
      "source": [
        "data['Class_att'] = data['Class_att'].astype('category')\n",
        "encode_map = {\n",
        "    'Abnormal': 1,\n",
        "    'Normal': 0\n",
        "}\n",
        "\n",
        "data['Class_att'].replace(encode_map, inplace=True)"
      ],
      "execution_count": null,
      "outputs": []
    },
    {
      "cell_type": "code",
      "metadata": {
        "colab": {
          "base_uri": "https://localhost:8080/",
          "height": 417
        },
        "id": "wHvyES8goRJf",
        "outputId": "b183a833-f4fe-49e7-8773-ca3e82da5383"
      },
      "source": [
        "data"
      ],
      "execution_count": null,
      "outputs": [
        {
          "output_type": "execute_result",
          "data": {
            "text/html": [
              "<div>\n",
              "<style scoped>\n",
              "    .dataframe tbody tr th:only-of-type {\n",
              "        vertical-align: middle;\n",
              "    }\n",
              "\n",
              "    .dataframe tbody tr th {\n",
              "        vertical-align: top;\n",
              "    }\n",
              "\n",
              "    .dataframe thead th {\n",
              "        text-align: right;\n",
              "    }\n",
              "</style>\n",
              "<table border=\"1\" class=\"dataframe\">\n",
              "  <thead>\n",
              "    <tr style=\"text-align: right;\">\n",
              "      <th></th>\n",
              "      <th>Col1</th>\n",
              "      <th>Col2</th>\n",
              "      <th>Col3</th>\n",
              "      <th>Col4</th>\n",
              "      <th>Col5</th>\n",
              "      <th>Col6</th>\n",
              "      <th>Col7</th>\n",
              "      <th>Col8</th>\n",
              "      <th>Col9</th>\n",
              "      <th>Col10</th>\n",
              "      <th>Col11</th>\n",
              "      <th>Col12</th>\n",
              "      <th>Class_att</th>\n",
              "      <th>Unnamed: 13</th>\n",
              "    </tr>\n",
              "  </thead>\n",
              "  <tbody>\n",
              "    <tr>\n",
              "      <th>0</th>\n",
              "      <td>63.027818</td>\n",
              "      <td>22.552586</td>\n",
              "      <td>39.609117</td>\n",
              "      <td>40.475232</td>\n",
              "      <td>98.672917</td>\n",
              "      <td>-0.254400</td>\n",
              "      <td>0.744503</td>\n",
              "      <td>12.5661</td>\n",
              "      <td>14.5386</td>\n",
              "      <td>15.30468</td>\n",
              "      <td>-28.658501</td>\n",
              "      <td>43.5123</td>\n",
              "      <td>1</td>\n",
              "      <td>NaN</td>\n",
              "    </tr>\n",
              "    <tr>\n",
              "      <th>1</th>\n",
              "      <td>39.056951</td>\n",
              "      <td>10.060991</td>\n",
              "      <td>25.015378</td>\n",
              "      <td>28.995960</td>\n",
              "      <td>114.405425</td>\n",
              "      <td>4.564259</td>\n",
              "      <td>0.415186</td>\n",
              "      <td>12.8874</td>\n",
              "      <td>17.5323</td>\n",
              "      <td>16.78486</td>\n",
              "      <td>-25.530607</td>\n",
              "      <td>16.1102</td>\n",
              "      <td>1</td>\n",
              "      <td>NaN</td>\n",
              "    </tr>\n",
              "    <tr>\n",
              "      <th>2</th>\n",
              "      <td>68.832021</td>\n",
              "      <td>22.218482</td>\n",
              "      <td>50.092194</td>\n",
              "      <td>46.613539</td>\n",
              "      <td>105.985135</td>\n",
              "      <td>-3.530317</td>\n",
              "      <td>0.474889</td>\n",
              "      <td>26.8343</td>\n",
              "      <td>17.4861</td>\n",
              "      <td>16.65897</td>\n",
              "      <td>-29.031888</td>\n",
              "      <td>19.2221</td>\n",
              "      <td>1</td>\n",
              "      <td>Prediction is done by using binary classificat...</td>\n",
              "    </tr>\n",
              "    <tr>\n",
              "      <th>3</th>\n",
              "      <td>69.297008</td>\n",
              "      <td>24.652878</td>\n",
              "      <td>44.311238</td>\n",
              "      <td>44.644130</td>\n",
              "      <td>101.868495</td>\n",
              "      <td>11.211523</td>\n",
              "      <td>0.369345</td>\n",
              "      <td>23.5603</td>\n",
              "      <td>12.7074</td>\n",
              "      <td>11.42447</td>\n",
              "      <td>-30.470246</td>\n",
              "      <td>18.8329</td>\n",
              "      <td>1</td>\n",
              "      <td>NaN</td>\n",
              "    </tr>\n",
              "    <tr>\n",
              "      <th>4</th>\n",
              "      <td>49.712859</td>\n",
              "      <td>9.652075</td>\n",
              "      <td>28.317406</td>\n",
              "      <td>40.060784</td>\n",
              "      <td>108.168725</td>\n",
              "      <td>7.918501</td>\n",
              "      <td>0.543360</td>\n",
              "      <td>35.4940</td>\n",
              "      <td>15.9546</td>\n",
              "      <td>8.87237</td>\n",
              "      <td>-16.378376</td>\n",
              "      <td>24.9171</td>\n",
              "      <td>1</td>\n",
              "      <td>NaN</td>\n",
              "    </tr>\n",
              "    <tr>\n",
              "      <th>...</th>\n",
              "      <td>...</td>\n",
              "      <td>...</td>\n",
              "      <td>...</td>\n",
              "      <td>...</td>\n",
              "      <td>...</td>\n",
              "      <td>...</td>\n",
              "      <td>...</td>\n",
              "      <td>...</td>\n",
              "      <td>...</td>\n",
              "      <td>...</td>\n",
              "      <td>...</td>\n",
              "      <td>...</td>\n",
              "      <td>...</td>\n",
              "      <td>...</td>\n",
              "    </tr>\n",
              "    <tr>\n",
              "      <th>305</th>\n",
              "      <td>47.903565</td>\n",
              "      <td>13.616688</td>\n",
              "      <td>36.000000</td>\n",
              "      <td>34.286877</td>\n",
              "      <td>117.449062</td>\n",
              "      <td>-4.245395</td>\n",
              "      <td>0.129744</td>\n",
              "      <td>7.8433</td>\n",
              "      <td>14.7484</td>\n",
              "      <td>8.51707</td>\n",
              "      <td>-15.728927</td>\n",
              "      <td>11.5472</td>\n",
              "      <td>0</td>\n",
              "      <td>NaN</td>\n",
              "    </tr>\n",
              "    <tr>\n",
              "      <th>306</th>\n",
              "      <td>53.936748</td>\n",
              "      <td>20.721496</td>\n",
              "      <td>29.220534</td>\n",
              "      <td>33.215251</td>\n",
              "      <td>114.365845</td>\n",
              "      <td>-0.421010</td>\n",
              "      <td>0.047913</td>\n",
              "      <td>19.1986</td>\n",
              "      <td>18.1972</td>\n",
              "      <td>7.08745</td>\n",
              "      <td>6.013843</td>\n",
              "      <td>43.8693</td>\n",
              "      <td>0</td>\n",
              "      <td>NaN</td>\n",
              "    </tr>\n",
              "    <tr>\n",
              "      <th>307</th>\n",
              "      <td>61.446597</td>\n",
              "      <td>22.694968</td>\n",
              "      <td>46.170347</td>\n",
              "      <td>38.751628</td>\n",
              "      <td>125.670725</td>\n",
              "      <td>-2.707880</td>\n",
              "      <td>0.081070</td>\n",
              "      <td>16.2059</td>\n",
              "      <td>13.5565</td>\n",
              "      <td>8.89572</td>\n",
              "      <td>3.564463</td>\n",
              "      <td>18.4151</td>\n",
              "      <td>0</td>\n",
              "      <td>NaN</td>\n",
              "    </tr>\n",
              "    <tr>\n",
              "      <th>308</th>\n",
              "      <td>45.252792</td>\n",
              "      <td>8.693157</td>\n",
              "      <td>41.583126</td>\n",
              "      <td>36.559635</td>\n",
              "      <td>118.545842</td>\n",
              "      <td>0.214750</td>\n",
              "      <td>0.159251</td>\n",
              "      <td>14.7334</td>\n",
              "      <td>16.0928</td>\n",
              "      <td>9.75922</td>\n",
              "      <td>5.767308</td>\n",
              "      <td>33.7192</td>\n",
              "      <td>0</td>\n",
              "      <td>NaN</td>\n",
              "    </tr>\n",
              "    <tr>\n",
              "      <th>309</th>\n",
              "      <td>33.841641</td>\n",
              "      <td>5.073991</td>\n",
              "      <td>36.641233</td>\n",
              "      <td>28.767649</td>\n",
              "      <td>123.945244</td>\n",
              "      <td>-0.199249</td>\n",
              "      <td>0.674504</td>\n",
              "      <td>19.3825</td>\n",
              "      <td>17.6963</td>\n",
              "      <td>13.72929</td>\n",
              "      <td>1.783007</td>\n",
              "      <td>40.6049</td>\n",
              "      <td>0</td>\n",
              "      <td>NaN</td>\n",
              "    </tr>\n",
              "  </tbody>\n",
              "</table>\n",
              "<p>310 rows × 14 columns</p>\n",
              "</div>"
            ],
            "text/plain": [
              "          Col1  ...                                        Unnamed: 13\n",
              "0    63.027818  ...                                                NaN\n",
              "1    39.056951  ...                                                NaN\n",
              "2    68.832021  ...  Prediction is done by using binary classificat...\n",
              "3    69.297008  ...                                                NaN\n",
              "4    49.712859  ...                                                NaN\n",
              "..         ...  ...                                                ...\n",
              "305  47.903565  ...                                                NaN\n",
              "306  53.936748  ...                                                NaN\n",
              "307  61.446597  ...                                                NaN\n",
              "308  45.252792  ...                                                NaN\n",
              "309  33.841641  ...                                                NaN\n",
              "\n",
              "[310 rows x 14 columns]"
            ]
          },
          "metadata": {
            "tags": []
          },
          "execution_count": 239
        }
      ]
    },
    {
      "cell_type": "markdown",
      "metadata": {
        "id": "zR8NkIECCxUS"
      },
      "source": [
        "Se define `X` como las características e `y` como sus clases."
      ]
    },
    {
      "cell_type": "code",
      "metadata": {
        "id": "0tjrDksxopF1"
      },
      "source": [
        "X = data.iloc[:, 0:-2]\n",
        "y = data.iloc[:, -2]"
      ],
      "execution_count": null,
      "outputs": []
    },
    {
      "cell_type": "code",
      "metadata": {
        "colab": {
          "base_uri": "https://localhost:8080/",
          "height": 417
        },
        "id": "H1uhT1dooxvj",
        "outputId": "5fd307c1-ca59-4d39-def6-fd421889cb89"
      },
      "source": [
        "X"
      ],
      "execution_count": null,
      "outputs": [
        {
          "output_type": "execute_result",
          "data": {
            "text/html": [
              "<div>\n",
              "<style scoped>\n",
              "    .dataframe tbody tr th:only-of-type {\n",
              "        vertical-align: middle;\n",
              "    }\n",
              "\n",
              "    .dataframe tbody tr th {\n",
              "        vertical-align: top;\n",
              "    }\n",
              "\n",
              "    .dataframe thead th {\n",
              "        text-align: right;\n",
              "    }\n",
              "</style>\n",
              "<table border=\"1\" class=\"dataframe\">\n",
              "  <thead>\n",
              "    <tr style=\"text-align: right;\">\n",
              "      <th></th>\n",
              "      <th>Col1</th>\n",
              "      <th>Col2</th>\n",
              "      <th>Col3</th>\n",
              "      <th>Col4</th>\n",
              "      <th>Col5</th>\n",
              "      <th>Col6</th>\n",
              "      <th>Col7</th>\n",
              "      <th>Col8</th>\n",
              "      <th>Col9</th>\n",
              "      <th>Col10</th>\n",
              "      <th>Col11</th>\n",
              "      <th>Col12</th>\n",
              "    </tr>\n",
              "  </thead>\n",
              "  <tbody>\n",
              "    <tr>\n",
              "      <th>0</th>\n",
              "      <td>63.027818</td>\n",
              "      <td>22.552586</td>\n",
              "      <td>39.609117</td>\n",
              "      <td>40.475232</td>\n",
              "      <td>98.672917</td>\n",
              "      <td>-0.254400</td>\n",
              "      <td>0.744503</td>\n",
              "      <td>12.5661</td>\n",
              "      <td>14.5386</td>\n",
              "      <td>15.30468</td>\n",
              "      <td>-28.658501</td>\n",
              "      <td>43.5123</td>\n",
              "    </tr>\n",
              "    <tr>\n",
              "      <th>1</th>\n",
              "      <td>39.056951</td>\n",
              "      <td>10.060991</td>\n",
              "      <td>25.015378</td>\n",
              "      <td>28.995960</td>\n",
              "      <td>114.405425</td>\n",
              "      <td>4.564259</td>\n",
              "      <td>0.415186</td>\n",
              "      <td>12.8874</td>\n",
              "      <td>17.5323</td>\n",
              "      <td>16.78486</td>\n",
              "      <td>-25.530607</td>\n",
              "      <td>16.1102</td>\n",
              "    </tr>\n",
              "    <tr>\n",
              "      <th>2</th>\n",
              "      <td>68.832021</td>\n",
              "      <td>22.218482</td>\n",
              "      <td>50.092194</td>\n",
              "      <td>46.613539</td>\n",
              "      <td>105.985135</td>\n",
              "      <td>-3.530317</td>\n",
              "      <td>0.474889</td>\n",
              "      <td>26.8343</td>\n",
              "      <td>17.4861</td>\n",
              "      <td>16.65897</td>\n",
              "      <td>-29.031888</td>\n",
              "      <td>19.2221</td>\n",
              "    </tr>\n",
              "    <tr>\n",
              "      <th>3</th>\n",
              "      <td>69.297008</td>\n",
              "      <td>24.652878</td>\n",
              "      <td>44.311238</td>\n",
              "      <td>44.644130</td>\n",
              "      <td>101.868495</td>\n",
              "      <td>11.211523</td>\n",
              "      <td>0.369345</td>\n",
              "      <td>23.5603</td>\n",
              "      <td>12.7074</td>\n",
              "      <td>11.42447</td>\n",
              "      <td>-30.470246</td>\n",
              "      <td>18.8329</td>\n",
              "    </tr>\n",
              "    <tr>\n",
              "      <th>4</th>\n",
              "      <td>49.712859</td>\n",
              "      <td>9.652075</td>\n",
              "      <td>28.317406</td>\n",
              "      <td>40.060784</td>\n",
              "      <td>108.168725</td>\n",
              "      <td>7.918501</td>\n",
              "      <td>0.543360</td>\n",
              "      <td>35.4940</td>\n",
              "      <td>15.9546</td>\n",
              "      <td>8.87237</td>\n",
              "      <td>-16.378376</td>\n",
              "      <td>24.9171</td>\n",
              "    </tr>\n",
              "    <tr>\n",
              "      <th>...</th>\n",
              "      <td>...</td>\n",
              "      <td>...</td>\n",
              "      <td>...</td>\n",
              "      <td>...</td>\n",
              "      <td>...</td>\n",
              "      <td>...</td>\n",
              "      <td>...</td>\n",
              "      <td>...</td>\n",
              "      <td>...</td>\n",
              "      <td>...</td>\n",
              "      <td>...</td>\n",
              "      <td>...</td>\n",
              "    </tr>\n",
              "    <tr>\n",
              "      <th>305</th>\n",
              "      <td>47.903565</td>\n",
              "      <td>13.616688</td>\n",
              "      <td>36.000000</td>\n",
              "      <td>34.286877</td>\n",
              "      <td>117.449062</td>\n",
              "      <td>-4.245395</td>\n",
              "      <td>0.129744</td>\n",
              "      <td>7.8433</td>\n",
              "      <td>14.7484</td>\n",
              "      <td>8.51707</td>\n",
              "      <td>-15.728927</td>\n",
              "      <td>11.5472</td>\n",
              "    </tr>\n",
              "    <tr>\n",
              "      <th>306</th>\n",
              "      <td>53.936748</td>\n",
              "      <td>20.721496</td>\n",
              "      <td>29.220534</td>\n",
              "      <td>33.215251</td>\n",
              "      <td>114.365845</td>\n",
              "      <td>-0.421010</td>\n",
              "      <td>0.047913</td>\n",
              "      <td>19.1986</td>\n",
              "      <td>18.1972</td>\n",
              "      <td>7.08745</td>\n",
              "      <td>6.013843</td>\n",
              "      <td>43.8693</td>\n",
              "    </tr>\n",
              "    <tr>\n",
              "      <th>307</th>\n",
              "      <td>61.446597</td>\n",
              "      <td>22.694968</td>\n",
              "      <td>46.170347</td>\n",
              "      <td>38.751628</td>\n",
              "      <td>125.670725</td>\n",
              "      <td>-2.707880</td>\n",
              "      <td>0.081070</td>\n",
              "      <td>16.2059</td>\n",
              "      <td>13.5565</td>\n",
              "      <td>8.89572</td>\n",
              "      <td>3.564463</td>\n",
              "      <td>18.4151</td>\n",
              "    </tr>\n",
              "    <tr>\n",
              "      <th>308</th>\n",
              "      <td>45.252792</td>\n",
              "      <td>8.693157</td>\n",
              "      <td>41.583126</td>\n",
              "      <td>36.559635</td>\n",
              "      <td>118.545842</td>\n",
              "      <td>0.214750</td>\n",
              "      <td>0.159251</td>\n",
              "      <td>14.7334</td>\n",
              "      <td>16.0928</td>\n",
              "      <td>9.75922</td>\n",
              "      <td>5.767308</td>\n",
              "      <td>33.7192</td>\n",
              "    </tr>\n",
              "    <tr>\n",
              "      <th>309</th>\n",
              "      <td>33.841641</td>\n",
              "      <td>5.073991</td>\n",
              "      <td>36.641233</td>\n",
              "      <td>28.767649</td>\n",
              "      <td>123.945244</td>\n",
              "      <td>-0.199249</td>\n",
              "      <td>0.674504</td>\n",
              "      <td>19.3825</td>\n",
              "      <td>17.6963</td>\n",
              "      <td>13.72929</td>\n",
              "      <td>1.783007</td>\n",
              "      <td>40.6049</td>\n",
              "    </tr>\n",
              "  </tbody>\n",
              "</table>\n",
              "<p>310 rows × 12 columns</p>\n",
              "</div>"
            ],
            "text/plain": [
              "          Col1       Col2       Col3  ...     Col10      Col11    Col12\n",
              "0    63.027818  22.552586  39.609117  ...  15.30468 -28.658501  43.5123\n",
              "1    39.056951  10.060991  25.015378  ...  16.78486 -25.530607  16.1102\n",
              "2    68.832021  22.218482  50.092194  ...  16.65897 -29.031888  19.2221\n",
              "3    69.297008  24.652878  44.311238  ...  11.42447 -30.470246  18.8329\n",
              "4    49.712859   9.652075  28.317406  ...   8.87237 -16.378376  24.9171\n",
              "..         ...        ...        ...  ...       ...        ...      ...\n",
              "305  47.903565  13.616688  36.000000  ...   8.51707 -15.728927  11.5472\n",
              "306  53.936748  20.721496  29.220534  ...   7.08745   6.013843  43.8693\n",
              "307  61.446597  22.694968  46.170347  ...   8.89572   3.564463  18.4151\n",
              "308  45.252792   8.693157  41.583126  ...   9.75922   5.767308  33.7192\n",
              "309  33.841641   5.073991  36.641233  ...  13.72929   1.783007  40.6049\n",
              "\n",
              "[310 rows x 12 columns]"
            ]
          },
          "metadata": {
            "tags": []
          },
          "execution_count": 241
        }
      ]
    },
    {
      "cell_type": "code",
      "metadata": {
        "colab": {
          "base_uri": "https://localhost:8080/"
        },
        "id": "_K7uScF5o1qL",
        "outputId": "d3f86db8-de55-4ad7-ddba-66c0b3f87ee9"
      },
      "source": [
        "y"
      ],
      "execution_count": null,
      "outputs": [
        {
          "output_type": "execute_result",
          "data": {
            "text/plain": [
              "0      1\n",
              "1      1\n",
              "2      1\n",
              "3      1\n",
              "4      1\n",
              "      ..\n",
              "305    0\n",
              "306    0\n",
              "307    0\n",
              "308    0\n",
              "309    0\n",
              "Name: Class_att, Length: 310, dtype: int64"
            ]
          },
          "metadata": {
            "tags": []
          },
          "execution_count": 242
        }
      ]
    },
    {
      "cell_type": "markdown",
      "metadata": {
        "id": "txY97NacC7u7"
      },
      "source": [
        "Con el método `train_test_split` de `sklearn` se divide el dataset en *train* y *test*"
      ]
    },
    {
      "cell_type": "code",
      "metadata": {
        "id": "hbvb39kepGcE"
      },
      "source": [
        "X_train, X_test, y_train, y_test = train_test_split(X, y, test_size=0.1, random_state=77)\n",
        "# Notar que es 0.9*0.2 = 0.18 del original\n",
        "X_train, X_val, y_train, y_val = train_test_split(X_train, y_train, test_size=0.2, random_state=77)"
      ],
      "execution_count": null,
      "outputs": []
    },
    {
      "cell_type": "markdown",
      "metadata": {
        "id": "11zMDWUsDKbR"
      },
      "source": [
        "Se normalizan los datos siguiendo: \n",
        "$z = \\frac{x - u}{s}$\n",
        "con $u$ como el promedio y $s$ la desviación estándar. \n",
        "Se utiliza el método `StandardScaler` de `sklearn` más información [acá](https://scikit-learn.org/stable/modules/generated/sklearn.preprocessing.StandardScaler.html)"
      ]
    },
    {
      "cell_type": "code",
      "metadata": {
        "id": "AGRhx5wfpqd-"
      },
      "source": [
        "scaler = StandardScaler()\n",
        "X_train = scaler.fit_transform(X_train)\n",
        "X_test = scaler.transform(X_test)"
      ],
      "execution_count": null,
      "outputs": []
    },
    {
      "cell_type": "code",
      "metadata": {
        "colab": {
          "base_uri": "https://localhost:8080/"
        },
        "id": "O4BYa9DwDH0Y",
        "outputId": "6cdaf262-65f8-413f-80ee-f903d4e6aee9"
      },
      "source": [
        "X_train"
      ],
      "execution_count": null,
      "outputs": [
        {
          "output_type": "execute_result",
          "data": {
            "text/plain": [
              "array([[-0.34068279,  0.2504743 , -0.97483496, ...,  0.87711325,\n",
              "         1.51415731,  1.74886913],\n",
              "       [-1.44410479, -1.31717761, -0.56573336, ...,  1.0638498 ,\n",
              "         0.99035374, -0.41309296],\n",
              "       [-1.7527233 , -1.03113173, -1.47485019, ...,  0.00200761,\n",
              "        -1.02581233, -1.28188895],\n",
              "       ...,\n",
              "       [-0.84079981, -0.26654167, -0.76896533, ..., -1.07597081,\n",
              "         1.47818432, -0.86885901],\n",
              "       [ 0.1185221 ,  0.95113892, -0.06875039, ..., -1.5482922 ,\n",
              "         1.66411082, -1.20299303],\n",
              "       [-0.72534507,  0.00435635, -0.04842162, ..., -1.22783117,\n",
              "        -0.70581524,  1.38723148]])"
            ]
          },
          "metadata": {
            "tags": []
          },
          "execution_count": 245
        }
      ]
    },
    {
      "cell_type": "code",
      "metadata": {
        "colab": {
          "base_uri": "https://localhost:8080/"
        },
        "id": "XQOuIAumrZtk",
        "outputId": "b2a57a29-493a-4487-d874-1dbb6fff26fd"
      },
      "source": [
        "X_train.shape"
      ],
      "execution_count": null,
      "outputs": [
        {
          "output_type": "execute_result",
          "data": {
            "text/plain": [
              "(223, 12)"
            ]
          },
          "metadata": {
            "tags": []
          },
          "execution_count": 246
        }
      ]
    },
    {
      "cell_type": "code",
      "metadata": {
        "colab": {
          "base_uri": "https://localhost:8080/"
        },
        "id": "nVAKrm3arcVy",
        "outputId": "7257b046-9cd6-4a04-aa80-6ab8dfe22048"
      },
      "source": [
        "y_train.shape"
      ],
      "execution_count": null,
      "outputs": [
        {
          "output_type": "execute_result",
          "data": {
            "text/plain": [
              "(223,)"
            ]
          },
          "metadata": {
            "tags": []
          },
          "execution_count": 247
        }
      ]
    },
    {
      "cell_type": "markdown",
      "metadata": {
        "id": "2wvotMFdB09U"
      },
      "source": [
        "## Pytorch"
      ]
    },
    {
      "cell_type": "code",
      "metadata": {
        "id": "fbvkUPT5gck2"
      },
      "source": [
        "from collections import OrderedDict\n",
        "\n",
        "import torch\n",
        "import torch.nn as nn\n",
        "import torch.optim as optim\n",
        "from torch.utils.data import Dataset, DataLoader\n",
        "from torch.nn import Sequential, Linear, LazyLinear\n",
        "from torch.nn import ELU, ReLU, Tanh, Sigmoid, Softmax"
      ],
      "execution_count": null,
      "outputs": []
    },
    {
      "cell_type": "code",
      "metadata": {
        "id": "dUDHNWe_x6_t"
      },
      "source": [
        "device = torch.device(\"cuda:0\" if torch.cuda.is_available() else \"cpu\")"
      ],
      "execution_count": null,
      "outputs": []
    },
    {
      "cell_type": "code",
      "metadata": {
        "id": "2-yseGbQqFsz"
      },
      "source": [
        "EPOCHS = 15 #cuantas veces entrenas \n",
        "BATCH_SIZE = 32 #tamaño del batch\n",
        "LEARNING_RATE = 0.001"
      ],
      "execution_count": null,
      "outputs": []
    },
    {
      "cell_type": "markdown",
      "metadata": {
        "id": "6eIgPnE0vnA_"
      },
      "source": [
        "Creamos una Clase SimpleDataset para controlar la carga de datos."
      ]
    },
    {
      "cell_type": "code",
      "metadata": {
        "id": "xoVx_oFwqFfU"
      },
      "source": [
        "class SimpleDataset(Dataset):\n",
        "    \n",
        "    def __init__(self, X_data, y_data):\n",
        "        self.X_data = X_data\n",
        "        self.y_data = y_data\n",
        "        \n",
        "    def __getitem__(self, idx):\n",
        "        return self.X_data[idx], self.y_data[idx]\n",
        "        \n",
        "    def __len__ (self):\n",
        "        return len(self.X_data)\n",
        "\n",
        "train_data = SimpleDataset(torch.FloatTensor(X_train), \n",
        "                       torch.FloatTensor(y_train))\n",
        "\n",
        "  \n",
        "test_data = SimpleDataset(torch.FloatTensor(X_test), \n",
        "                       torch.FloatTensor(y_test.to_numpy()))\n",
        "\n",
        "val_data = SimpleDataset(torch.FloatTensor(X_val.to_numpy()), \n",
        "                       torch.FloatTensor(y_val.to_numpy()))"
      ],
      "execution_count": null,
      "outputs": []
    },
    {
      "cell_type": "markdown",
      "metadata": {
        "id": "Wi102vMLwU84"
      },
      "source": [
        "Con el data loader normalizamos los datos de la clase al Batch. Recordar que el metodo correrá a una cantidad  EPOCHS de epocas dividiendo la matriz X_train en segmentos o batches de tamaño BATCH_SIZE files."
      ]
    },
    {
      "cell_type": "code",
      "metadata": {
        "id": "_GlTceYasg0A"
      },
      "source": [
        "train_loader = DataLoader(train_data, batch_size=BATCH_SIZE, shuffle=True)\n",
        "val_loader = DataLoader(val_data, batch_size=BATCH_SIZE, shuffle=False)\n",
        "test_loader = DataLoader(test_data, batch_size=BATCH_SIZE, shuffle=False)"
      ],
      "execution_count": null,
      "outputs": []
    },
    {
      "cell_type": "markdown",
      "metadata": {
        "id": "gEmSQnLQw9l_"
      },
      "source": [
        "Aqui definimos la estrucutra vacia de la Red Neuronal.\n",
        "\n",
        "Linear(tamaño(entrada),tamaño(salida))) corresponde al Layer \n",
        "\n",
        "ReLU() es la función de activación\n",
        "\n",
        "\n",
        "\n"
      ]
    },
    {
      "cell_type": "code",
      "metadata": {
        "id": "KFjhp5tossUR"
      },
      "source": [
        "arch_small = OrderedDict([('input', Linear(X_train.shape[1], 64)),\n",
        "                         ('relu1', ReLU()),\n",
        "                         ('hidden', Linear(64, 28)),\n",
        "                         ('relu2', ReLU()),\n",
        "                         ('output', Linear(28, 2))])\n",
        "mlp = Sequential(arch_small)"
      ],
      "execution_count": null,
      "outputs": []
    },
    {
      "cell_type": "markdown",
      "metadata": {
        "id": "_fLa7zy5m4Rk"
      },
      "source": [
        "Esto corresponde a la función de solo una epoca."
      ]
    },
    {
      "cell_type": "code",
      "metadata": {
        "id": "x-ZfF6J0xsJ8"
      },
      "source": [
        "def epoch(model, optimizer, lossfn, loader, istrain=True):\n",
        "    epoch_loss = 0\n",
        "    epoch_acc = 0\n",
        "\n",
        "    if istrain:\n",
        "        model.train() #para entrenar el modelo\n",
        "    else:\n",
        "        model.eval() #es para evaluar y predecir el modelo.\n",
        "\n",
        "    for (input, labels) in loader:\n",
        "        input, labels = input.to(device), labels.to(device) #manda datos a tu dispositivo\n",
        "\n",
        "        prediction = model(input)#Se calcula una prediccion en el tensor de salida\n",
        "                                 #da una probabilidad de peternencia para cada una de las clases (AQUI SON 2, [0,1])\n",
        "        predicted_label = prediction.argmax(dim=1, keepdim=True)  #escoje una clase con respecto a la probabilidad más alta\n",
        "\n",
        "        optimizer.zero_grad() #El optimizador establece su gradiente inicia en cero\n",
        "        loss =  criterion(prediction, labels.long()) #Se calcula la perdida \n",
        "        acc = binary_acc(predicted_label.squeeze(), labels.squeeze())\n",
        "\n",
        "        if istrain:\n",
        "            loss.backward() # se inizializa el back propagation en el modelo.\n",
        "            optimizer.step()#Se calculan los gradientes y se aplica un paso de actualizacion de pesos\n",
        "        epoch_loss += loss.item()\n",
        "        epoch_acc += acc.item()\n",
        "\n",
        "    mean_loss =  epoch_loss / len(loader)\n",
        "    mean_acc = epoch_acc / len(loader)\n",
        "\n",
        "    return mean_loss, mean_acc\n",
        "\n",
        "def binary_acc(y_pred, y_test):\n",
        "    correct_results_sum = (y_pred == y_test).sum().float()\n",
        "    acc = correct_results_sum/y_test.shape[0]\n",
        "    acc = torch.round(acc * 100)\n",
        "    \n",
        "    return acc\n"
      ],
      "execution_count": null,
      "outputs": []
    },
    {
      "cell_type": "markdown",
      "metadata": {
        "id": "QBEIwuu5_2gD"
      },
      "source": [
        "**La** perdida `CrossEntropyLoss` actúa sobre la última capa y agruega una combinación de una capa `LogSoftmax` con pérdida `NLLLoss`, más información [acá](https://pytorch.org/docs/stable/generated/torch.nn.CrossEntropyLoss.html).  La razón para esto, es que el resultado final de la red entregará un valor determinado. La función `LogSoftmax` convierte este valor en una probablidad para que así la función `NLLLoss` clasifique el resultado y calcule la perdida."
      ]
    },
    {
      "cell_type": "markdown",
      "metadata": {
        "id": "aJdJkhC55i5M"
      },
      "source": [
        "![1_KvygqiInUpBzpknb-KVKJw.jpeg](data:image/jpeg;base64,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)\n"
      ]
    },
    {
      "cell_type": "code",
      "metadata": {
        "id": "7DlwlC2M0eAE",
        "colab": {
          "base_uri": "https://localhost:8080/"
        },
        "outputId": "2a1742b7-7f0d-4cab-a871-e98a1e261a59"
      },
      "source": [
        "mlp.to(device)\n",
        "print(mlp)\n",
        "criterion = nn.CrossEntropyLoss()\n",
        "optimizer = optim.Adam(mlp.parameters(), lr=LEARNING_RATE)"
      ],
      "execution_count": null,
      "outputs": [
        {
          "output_type": "stream",
          "text": [
            "Sequential(\n",
            "  (input): Linear(in_features=12, out_features=64, bias=True)\n",
            "  (relu1): ReLU()\n",
            "  (hidden): Linear(in_features=64, out_features=28, bias=True)\n",
            "  (relu2): ReLU()\n",
            "  (output): Linear(in_features=28, out_features=2, bias=True)\n",
            ")\n"
          ],
          "name": "stdout"
        }
      ]
    },
    {
      "cell_type": "code",
      "metadata": {
        "colab": {
          "base_uri": "https://localhost:8080/"
        },
        "id": "CRHqfRMh3iXO",
        "outputId": "ac6999fb-1336-4310-fd06-0a222d68950c"
      },
      "source": [
        "import time\n",
        "import datetime\n",
        "import sys\n",
        "\n",
        "train_loss_history = []\n",
        "train_acc_history = []\n",
        "val_loss_history = []\n",
        "val_acc_history = []\n",
        "\n",
        "\n",
        "for ep in range(EPOCHS):\n",
        "    loss_train, acc_train = epoch(mlp, optimizer, criterion, train_loader, istrain=True)\n",
        "    train_loss_history.append(loss_train)\n",
        "    train_acc_history.append(acc_train)\n",
        "    print(f'Epoch Train {ep+0:02}: | Loss: {loss_train:.5f} | Acc: {acc_train:.3f}')\n",
        "\n",
        "    # Acá se revisar el rendimiento del set de validación\n",
        "\n"
      ],
      "execution_count": null,
      "outputs": [
        {
          "output_type": "stream",
          "text": [
            "Epoch Train 00: | Loss: 0.69036 | Acc: 53.429\n",
            "Epoch Train 01: | Loss: 0.64518 | Acc: 67.857\n",
            "Epoch Train 02: | Loss: 0.60855 | Acc: 67.714\n",
            "Epoch Train 03: | Loss: 0.57653 | Acc: 67.714\n",
            "Epoch Train 04: | Loss: 0.54315 | Acc: 67.857\n",
            "Epoch Train 05: | Loss: 0.51852 | Acc: 67.571\n",
            "Epoch Train 06: | Loss: 0.49323 | Acc: 67.714\n",
            "Epoch Train 07: | Loss: 0.47015 | Acc: 71.286\n",
            "Epoch Train 08: | Loss: 0.44843 | Acc: 77.000\n",
            "Epoch Train 09: | Loss: 0.43073 | Acc: 82.286\n",
            "Epoch Train 10: | Loss: 0.41184 | Acc: 83.571\n",
            "Epoch Train 11: | Loss: 0.39387 | Acc: 85.714\n",
            "Epoch Train 12: | Loss: 0.37572 | Acc: 85.571\n",
            "Epoch Train 13: | Loss: 0.35987 | Acc: 86.143\n",
            "Epoch Train 14: | Loss: 0.34406 | Acc: 86.000\n"
          ],
          "name": "stdout"
        }
      ]
    },
    {
      "cell_type": "code",
      "metadata": {
        "id": "i5Rvws_56mII"
      },
      "source": [
        "history = {'acc': train_acc_history,\n",
        "           'loss': train_loss_history,\n",
        "           'val_acc': val_acc_history,\n",
        "           'val_loss': val_loss_history,\n",
        "           'epoch': list(range(EPOCHS))}"
      ],
      "execution_count": null,
      "outputs": []
    },
    {
      "cell_type": "code",
      "metadata": {
        "id": "OuQsXYdOjQUr"
      },
      "source": [
        "import matplotlib.pyplot as plt\n",
        "def plot_history(hist, abslim=100, sqrtlim=3):\n",
        "\n",
        "    plt.figure()\n",
        "    plt.xlabel('Epoch')\n",
        "    plt.ylabel('Accuracy')\n",
        "    plt.plot(hist['epoch'], hist['acc'],\n",
        "            label='Train')\n",
        "    plt.ylim([0,abslim])\n",
        "    plt.legend()\n",
        "\n",
        "    plt.figure()\n",
        "    plt.xlabel('Epoch')\n",
        "    plt.ylabel('Loss')\n",
        "    plt.plot(hist['epoch'], hist['loss'],\n",
        "            label='Train')\n",
        "    plt.ylim([0,sqrtlim])\n",
        "    plt.legend()\n",
        "    plt.show()"
      ],
      "execution_count": null,
      "outputs": []
    },
    {
      "cell_type": "code",
      "metadata": {
        "colab": {
          "base_uri": "https://localhost:8080/",
          "height": 549
        },
        "id": "coaAdwn2jnfX",
        "outputId": "c0327f04-2a66-4bec-d46f-0aeaa84fe1d5"
      },
      "source": [
        "plot_history(history)"
      ],
      "execution_count": null,
      "outputs": [
        {
          "output_type": "display_data",
          "data": {
            "image/png": "[encoded data removed]",
            "text/plain": [
              "<Figure size 432x288 with 1 Axes>"
            ]
          },
          "metadata": {
            "tags": [],
            "needs_background": "light"
          }
        },
        {
          "output_type": "display_data",
          "data": {
            "image/png": "[encoded data removed]",
            "text/plain": [
              "<Figure size 432x288 with 1 Axes>"
            ]
          },
          "metadata": {
            "tags": [],
            "needs_background": "light"
          }
        }
      ]
    },
    {
      "cell_type": "code",
      "metadata": {
        "id": "hx6lNyhtHNQ9"
      },
      "source": [
        "y_pred_list = []\n",
        "y_label_list = []\n",
        "mlp.eval()\n",
        "with torch.no_grad():\n",
        "    for (input, label) in test_loader:\n",
        "        input = input.to(device)\n",
        "        y_test_pred = mlp(input)\n",
        "        y_test_pred= y_test_pred.argmax(dim=1, keepdim=True)\n",
        "        y_pred_list.append(y_test_pred.numpy())\n",
        "        y_label_list.append(label.tolist())\n",
        "\n",
        "y_pred_list = [a.squeeze().tolist() for a in y_pred_list]\n",
        "\n",
        "y_pred = []\n",
        "for elements in y_pred_list:\n",
        "  for e in elements:\n",
        "    y_pred.append(e)"
      ],
      "execution_count": null,
      "outputs": []
    },
    {
      "cell_type": "code",
      "metadata": {
        "colab": {
          "base_uri": "https://localhost:8080/"
        },
        "id": "S7KeeTFmHpIo",
        "outputId": "98c16fc4-938e-4350-8c88-65362e99b32c"
      },
      "source": [
        "confusion_matrix(y_test, y_pred)"
      ],
      "execution_count": null,
      "outputs": [
        {
          "output_type": "execute_result",
          "data": {
            "text/plain": [
              "array([[ 5,  3],\n",
              "       [ 6, 17]])"
            ]
          },
          "metadata": {
            "tags": []
          },
          "execution_count": 261
        }
      ]
    },
    {
      "cell_type": "markdown",
      "metadata": {
        "id": "zWcEi6V10K8a"
      },
      "source": [
        "la diagonal de 0,0 + 1,1 esta bien clasificada mientras que la diagonal 0,1 + 1,0 esta mal clasificada"
      ]
    },
    {
      "cell_type": "markdown",
      "metadata": {
        "id": "YvFNwOs0B7qF"
      },
      "source": [
        "## Keras"
      ]
    },
    {
      "cell_type": "code",
      "metadata": {
        "id": "KPoe4HeM8bOR"
      },
      "source": [
        "import keras\n",
        "from keras.layers import Dense\n",
        "from keras.models import Sequential\n",
        "from keras.utils.np_utils import to_categorical\n",
        "from keras.callbacks import EarlyStopping, ModelCheckpoint, ReduceLROnPlateau"
      ],
      "execution_count": null,
      "outputs": []
    },
    {
      "cell_type": "code",
      "metadata": {
        "id": "Y6n_qH-PfK0M"
      },
      "source": [
        "X_train, X_test, y_train, y_test = train_test_split(X, y, test_size=0.1, random_state=77)"
      ],
      "execution_count": null,
      "outputs": []
    },
    {
      "cell_type": "code",
      "metadata": {
        "id": "sebIFFL9gE_z"
      },
      "source": [
        "scaler = StandardScaler()\n",
        "X_train = scaler.fit_transform(X_train)\n",
        "X_test = scaler.transform(X_test)"
      ],
      "execution_count": null,
      "outputs": []
    },
    {
      "cell_type": "markdown",
      "metadata": {
        "id": "JaooWOqO1Nf3"
      },
      "source": [
        "Lo que hace el to_categorical es definir la clase de cada resultado\n",
        "\n",
        "en Keras \n",
        "\n",
        "Si es clase 0 —> [1, 0]\n",
        "\n",
        "Si es clase 1 —> [0, 1]\n",
        "\n",
        "Mientras que en Pytorch (debido a la función de perdida que nosotros utilizamos)\n",
        "\n",
        "0 —> 0\n",
        "\n",
        "1 —> 1\n",
        "\n"
      ]
    },
    {
      "cell_type": "code",
      "metadata": {
        "id": "CXPmQ2qyd11S"
      },
      "source": [
        "y_train_cat = to_categorical(y_train, 2)\n",
        "y_test_cat = to_categorical(y_test, 2)"
      ],
      "execution_count": null,
      "outputs": []
    },
    {
      "cell_type": "markdown",
      "metadata": {
        "id": "-PM-RsDn2E0X"
      },
      "source": [
        "Aqui definimos la estrucutra de la Red Neuronal"
      ]
    },
    {
      "cell_type": "code",
      "metadata": {
        "colab": {
          "base_uri": "https://localhost:8080/"
        },
        "id": "N7BJvEW98zZO",
        "outputId": "d07edce4-0216-474a-e905-0b8bbcba1d8d"
      },
      "source": [
        "mlp = Sequential() #Definición del modelo\n",
        "mlp.add(Dense(64, input_shape=(X_train.shape[1],), activation='relu'))\n",
        "mlp.add(Dense(28, activation='relu'))\n",
        "mlp.add(Dense(2, activation='softmax'))\n",
        "mlp.summary()\n"
      ],
      "execution_count": null,
      "outputs": [
        {
          "output_type": "stream",
          "text": [
            "Model: \"sequential_5\"\n",
            "_________________________________________________________________\n",
            "Layer (type)                 Output Shape              Param #   \n",
            "=================================================================\n",
            "dense_15 (Dense)             (None, 64)                832       \n",
            "_________________________________________________________________\n",
            "dense_16 (Dense)             (None, 28)                1820      \n",
            "_________________________________________________________________\n",
            "dense_17 (Dense)             (None, 2)                 58        \n",
            "=================================================================\n",
            "Total params: 2,710\n",
            "Trainable params: 2,710\n",
            "Non-trainable params: 0\n",
            "_________________________________________________________________\n"
          ],
          "name": "stdout"
        }
      ]
    },
    {
      "cell_type": "code",
      "metadata": {
        "colab": {
          "base_uri": "https://localhost:8080/"
        },
        "id": "wvCz9vDb9KzR",
        "outputId": "b620a35b-5d1b-4d3d-c6fc-4a052a7036f7"
      },
      "source": [
        "#Generación del grafo de cómputo\n",
        "mlp.compile(loss='categorical_crossentropy', optimizer='adam', metrics=['accuracy']) \n",
        "\n",
        "#Entrenamiento y recuperación de datos de entrenamiento\n",
        "history = mlp.fit(X_train, y_train_cat, epochs=15, batch_size=32, verbose=1)\n"
      ],
      "execution_count": null,
      "outputs": [
        {
          "output_type": "stream",
          "text": [
            "Epoch 1/15\n",
            "9/9 [==============================] - 1s 2ms/step - loss: 0.7191 - accuracy: 0.4447\n",
            "Epoch 2/15\n",
            "9/9 [==============================] - 0s 1ms/step - loss: 0.6086 - accuracy: 0.6944\n",
            "Epoch 3/15\n",
            "9/9 [==============================] - 0s 2ms/step - loss: 0.5435 - accuracy: 0.6910\n",
            "Epoch 4/15\n",
            "9/9 [==============================] - 0s 2ms/step - loss: 0.5039 - accuracy: 0.7084\n",
            "Epoch 5/15\n",
            "9/9 [==============================] - 0s 1ms/step - loss: 0.4839 - accuracy: 0.7523\n",
            "Epoch 6/15\n",
            "9/9 [==============================] - 0s 1ms/step - loss: 0.4453 - accuracy: 0.7558\n",
            "Epoch 7/15\n",
            "9/9 [==============================] - 0s 2ms/step - loss: 0.4322 - accuracy: 0.8063\n",
            "Epoch 8/15\n",
            "9/9 [==============================] - 0s 1ms/step - loss: 0.3981 - accuracy: 0.8396\n",
            "Epoch 9/15\n",
            "9/9 [==============================] - 0s 2ms/step - loss: 0.3954 - accuracy: 0.8418\n",
            "Epoch 10/15\n",
            "9/9 [==============================] - 0s 1ms/step - loss: 0.3996 - accuracy: 0.8435\n",
            "Epoch 11/15\n",
            "9/9 [==============================] - 0s 2ms/step - loss: 0.3955 - accuracy: 0.8412\n",
            "Epoch 12/15\n",
            "9/9 [==============================] - 0s 2ms/step - loss: 0.3617 - accuracy: 0.8651\n",
            "Epoch 13/15\n",
            "9/9 [==============================] - 0s 2ms/step - loss: 0.3281 - accuracy: 0.8929\n",
            "Epoch 14/15\n",
            "9/9 [==============================] - 0s 1ms/step - loss: 0.3145 - accuracy: 0.8893\n",
            "Epoch 15/15\n",
            "9/9 [==============================] - 0s 2ms/step - loss: 0.3242 - accuracy: 0.8858\n"
          ],
          "name": "stdout"
        }
      ]
    },
    {
      "cell_type": "markdown",
      "metadata": {
        "id": "saMyzYZZ3Yth"
      },
      "source": [
        "Para acceder a los resultados usan el *output* de *fit*"
      ]
    },
    {
      "cell_type": "code",
      "metadata": {
        "colab": {
          "base_uri": "https://localhost:8080/"
        },
        "id": "Y4sWUfeB2zZD",
        "outputId": "79c6cfaf-4d78-4323-d1a9-ccca428477fc"
      },
      "source": [
        "print(history.history)"
      ],
      "execution_count": null,
      "outputs": [
        {
          "output_type": "stream",
          "text": [
            "{'loss': [0.6952784657478333, 0.5978052616119385, 0.5418955087661743, 0.5026123523712158, 0.47130489349365234, 0.4465710520744324, 0.4252866208553314, 0.4057927429676056, 0.38937488198280334, 0.3728060722351074, 0.3578430712223053, 0.34352871775627136, 0.33009928464889526, 0.3174627125263214, 0.3055773973464966], 'accuracy': [0.5089605450630188, 0.6881720423698425, 0.6953405141830444, 0.7096773982048035, 0.7383512258529663, 0.7706093192100525, 0.8028674125671387, 0.8243727684020996, 0.8530465960502625, 0.8673835396766663, 0.8781362175941467, 0.8709677457809448, 0.8817204236984253, 0.8781362175941467, 0.8924731016159058]}\n"
          ],
          "name": "stdout"
        }
      ]
    },
    {
      "cell_type": "code",
      "metadata": {
        "id": "V7kmm1jM3wf1"
      },
      "source": [
        "history.history['epoch'] = list(range(EPOCHS))\n"
      ],
      "execution_count": null,
      "outputs": []
    },
    {
      "cell_type": "code",
      "metadata": {
        "id": "PeZicfFp38nx"
      },
      "source": [
        "#@title\n",
        "\n",
        "import matplotlib.pyplot as plt\n",
        "def plot_history(hist, abslim=1.2, sqrtlim=0.5):\n",
        "\n",
        "    plt.figure()\n",
        "    plt.xlabel('Epoch')\n",
        "    plt.ylabel('Accuracy')\n",
        "    plt.plot(hist['epoch'], hist['accuracy'],\n",
        "            label='Train')\n",
        "    plt.ylim([0,abslim])\n",
        "    plt.legend()\n",
        "\n",
        "    plt.figure()\n",
        "    plt.xlabel('Epoch')\n",
        "    plt.ylabel('Loss')\n",
        "    plt.plot(hist['epoch'], hist['loss'],\n",
        "            label='Train')\n",
        "    plt.ylim([0,sqrtlim])\n",
        "    plt.legend()\n",
        "    plt.show()"
      ],
      "execution_count": null,
      "outputs": []
    },
    {
      "cell_type": "code",
      "metadata": {
        "colab": {
          "base_uri": "https://localhost:8080/",
          "height": 549
        },
        "id": "0CEURC163mIo",
        "outputId": "20ac3cf9-1c0e-495f-b222-481166cae3ee"
      },
      "source": [
        "plot_history(history.history)"
      ],
      "execution_count": null,
      "outputs": [
        {
          "output_type": "display_data",
          "data": {
            "image/png": "[encoded data removed]",
            "text/plain": [
              "<Figure size 432x288 with 1 Axes>"
            ]
          },
          "metadata": {
            "tags": [],
            "needs_background": "light"
          }
        },
        {
          "output_type": "display_data",
          "data": {
            "image/png": "[encoded data removed]",
            "text/plain": [
              "<Figure size 432x288 with 1 Axes>"
            ]
          },
          "metadata": {
            "tags": [],
            "needs_background": "light"
          }
        }
      ]
    },
    {
      "cell_type": "code",
      "metadata": {
        "id": "-8nfkIz29ziX"
      },
      "source": [
        "test_predictions = mlp.predict(X_test)"
      ],
      "execution_count": null,
      "outputs": []
    },
    {
      "cell_type": "markdown",
      "metadata": {
        "id": "0JaYmhGQ_gBW"
      },
      "source": [
        "https://machinelearningmastery.com/5-step-life-cycle-neural-network-models-keras/"
      ]
    },
    {
      "cell_type": "code",
      "metadata": {
        "colab": {
          "base_uri": "https://localhost:8080/"
        },
        "id": "rOSuuL3x921r",
        "outputId": "5e74cc02-f923-4649-bba9-c21d8104c1f9"
      },
      "source": [
        "print(y_test.values)\n",
        "print(np.argmax(test_predictions,axis=1))"
      ],
      "execution_count": null,
      "outputs": [
        {
          "output_type": "stream",
          "text": [
            "[1 1 1 0 0 1 1 1 0 1 1 0 1 1 1 1 1 1 1 0 1 1 1 1 0 0 1 1 1 1 0]\n",
            "[0 0 1 1 1 1 1 1 0 1 1 0 1 1 1 0 1 1 0 0 0 0 1 1 0 0 1 0 1 1 0]\n"
          ],
          "name": "stdout"
        }
      ]
    },
    {
      "cell_type": "code",
      "metadata": {
        "colab": {
          "base_uri": "https://localhost:8080/"
        },
        "id": "MFd-tcQL424-",
        "outputId": "151b5669-1d56-4967-f3c4-e40ef56deb77"
      },
      "source": [
        "confusion_matrix(y_test, np.argmax(test_predictions,axis=1))"
      ],
      "execution_count": null,
      "outputs": [
        {
          "output_type": "execute_result",
          "data": {
            "text/plain": [
              "array([[ 6,  2],\n",
              "       [ 7, 16]])"
            ]
          },
          "metadata": {
            "tags": []
          },
          "execution_count": 274
        }
      ]
    }
  ]
}